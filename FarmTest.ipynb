{
 "cells": [
  {
   "attachments": {},
   "cell_type": "markdown",
   "id": "5c15cb24",
   "metadata": {},
   "source": [
    "## Cloud Farm Health Test"
   ]
  },
  {
   "attachments": {},
   "cell_type": "markdown",
   "id": "01549d7c-2445-4007-8a89-ac0f3a864530",
   "metadata": {
    "tags": []
   },
   "source": [
    "#### Specify list of farm nodes to test:"
   ]
  },
  {
   "cell_type": "code",
   "execution_count": 21,
   "id": "9f7e5474",
   "metadata": {},
   "outputs": [],
   "source": [
    "nodes = [\n",
    "    \"clfarm002\",\n",
    "    \"clfarm003\",\n",
    "    \"clfarm004\",\n",
    "    \"clfarm005\",\n",
    "    \"clfarm006\",\n",
    "    \"clfarm007\",\n",
    "    \"clfarm008\",\n",
    "    \"clfarm009\",\n",
    "    \"clfarm010\",\n",
    "    \"clfarm011\",\n",
    "    \"clfarm012\",\n",
    "    \"clfarm013\",\n",
    "    \"clfarm014\",\n",
    "]\n",
    "\n",
    "good_freq_MHz = 1500\n",
    "iterations = 100  # how many iterations to run for each model"
   ]
  },
  {
   "cell_type": "code",
   "execution_count": 26,
   "id": "fea1e8c8",
   "metadata": {
    "tags": []
   },
   "outputs": [
    {
     "name": "stdout",
     "output_type": "stream",
     "text": [
      "Node       | FPS  | Lat, ms | Temp, C | Freq, MHz | Status    \n",
      "------------------------------------------------------------\n",
      "clfarm002  | 57.7 |   150.4 |      53 |      1500 | Good      \n",
      "clfarm003  | 57.7 |   150.2 |      52 |      1500 | Good      \n",
      "clfarm004  | 57.9 |   149.9 |      51 |      1500 | Good      \n",
      "clfarm005  | 57.9 |   149.8 |      60 |      1500 | Good      \n",
      "clfarm006  | 57.3 |   151.2 |      53 |      1500 | Good      \n",
      "clfarm008  | 57.8 |   150.2 |      43 |      1500 | Good      \n",
      "clfarm009  | 57.9 |   149.3 |      46 |      1500 | Good      \n",
      "clfarm010  | 57.8 |   150.0 |      48 |      1500 | Good      \n",
      "clfarm011  | 57.6 |   150.3 |      51 |      1500 | Good      \n",
      "clfarm012  | 57.2 |   151.4 |      41 |      1500 | Good      \n",
      "clfarm013  | 57.8 |   150.0 |      53 |      1500 | Good      \n",
      "clfarm014  | 57.9 |   150.0 |      52 |      1500 | Good      \n"
     ]
    }
   ],
   "source": [
    "import degirum as dg, mytools\n",
    "\n",
    "cloud_token = mytools.get_token()  # get cloud API access token from env.ini file\n",
    "cloud_zoo_url = mytools.get_cloud_zoo_url()  # get cloud zoo URL from env.ini file\n",
    "\n",
    "\n",
    "# define function to run a single model batch prediction\n",
    "def do_test(node):\n",
    "\n",
    "    zoo = dg.connect(node, cloud_zoo_url, cloud_token)\n",
    "    model_name = \"yolo_v5m_coco--512x512_pruned_quant_n2x_orca_1\"    \n",
    "\n",
    "    # load model\n",
    "    with zoo.load_model(model_name) as model:\n",
    "        # configure model\n",
    "        model.image_backend = \"opencv\"  # select OpenCV backend\n",
    "        model.input_numpy_colorspace = \"BGR\"\n",
    "        model._model_parameters.InputImgFmt = [\"JPEG\"]\n",
    "        model.measure_time = True\n",
    "\n",
    "        # prepare input frame\n",
    "        frame = \"./images/TwoCats.jpg\"\n",
    "        frame = model._preprocessor.forward(frame)[0]\n",
    "\n",
    "        # define source of frames\n",
    "        def source():\n",
    "            for fi in range(iterations):\n",
    "                yield frame\n",
    "\n",
    "        model(frame)  # run model once to warm up the system\n",
    "\n",
    "        # run batch prediction\n",
    "        t = mytools.Timer()\n",
    "        for res in model.predict_batch(source()):\n",
    "            f_MHz = model.time_stats()[\"DeviceFrequency_MHz\"].avg\n",
    "            if f_MHz < good_freq_MHz:\n",
    "                break\n",
    "\n",
    "        return {\n",
    "            \"postprocess_type\": model.output_postprocess_type,\n",
    "            \"elapsed\": t(),\n",
    "            \"time_stats\": model.time_stats(),\n",
    "        }\n",
    "\n",
    "\n",
    "# print results\n",
    "def print_result(node, res):\n",
    "    latency_ms = res[\"time_stats\"][\"FrameTotalDuration_ms\"].avg\n",
    "    iterations = res[\"time_stats\"][\"CoreInferenceDuration_ms\"].cnt\n",
    "    temp_C = res[\"time_stats\"][\"DeviceTemperature_C\"].avg\n",
    "    f_MHz = res[\"time_stats\"][\"DeviceFrequency_MHz\"].avg\n",
    "    fps = iterations / res[\"elapsed\"]\n",
    "    status = \"Good\" if f_MHz == good_freq_MHz else \"OVERHEATED\"\n",
    "    print(f\"{node:10} | {fps:4.1f} | {latency_ms:7.1f} | {temp_C:7.0f} | {f_MHz:9.0f} | {status:10}\")\n",
    "\n",
    "print(f\"{'Node':10} | {'FPS':4} | {'Lat, ms':7} | {'Temp, C':7} | {'Freq, MHz':9} | {'Status':10}\")\n",
    "print(f\"{'-'*60}\")\n",
    "\n",
    "results = {}\n",
    "for node in nodes:\n",
    "    results[node] = do_test(node)\n",
    "    print_result(node, results[node])\n",
    "\n"
   ]
  },
  {
   "cell_type": "code",
   "execution_count": null,
   "id": "488a62e7",
   "metadata": {},
   "outputs": [],
   "source": []
  }
 ],
 "metadata": {
  "kernelspec": {
   "display_name": "Python 3 (ipykernel)",
   "language": "python",
   "name": "python3"
  },
  "language_info": {
   "codemirror_mode": {
    "name": "ipython",
    "version": 3
   },
   "file_extension": ".py",
   "mimetype": "text/x-python",
   "name": "python",
   "nbconvert_exporter": "python",
   "pygments_lexer": "ipython3",
   "version": "3.9.12"
  }
 },
 "nbformat": 4,
 "nbformat_minor": 5
}
