{
 "cells": [
  {
   "cell_type": "markdown",
   "id": "e08e7226",
   "metadata": {},
   "source": [
    "This notebook is one of the most simplest examples how to use DeGirum PySDK to do AI inference of a graphical file using  object detection model"
   ]
  },
  {
   "cell_type": "code",
   "execution_count": null,
   "id": "8e7bde8c",
   "metadata": {},
   "outputs": [],
   "source": [
    "# import DeGirum PySDK\n",
    "import degirum as dg"
   ]
  },
  {
   "cell_type": "code",
   "execution_count": null,
   "id": "6b4388e3",
   "metadata": {},
   "outputs": [],
   "source": [
    "# connect to default model zoo\n",
    "ai_server_address=''\n",
    "zoo = dg.connect_model_zoo(ai_server_address)"
   ]
  },
  {
   "cell_type": "code",
   "execution_count": null,
   "id": "878db7d5",
   "metadata": {},
   "outputs": [],
   "source": [
    "people_det_model=zoo.load_model(\"yolo_v5s_person_det--512x512_quant_n2x_orca_1\")\n",
    "pose_model=zoo.load_model(\"mobilenet_v1_posenet_coco_keypoints--353x481_quant_n2x_orca_1\")\n",
    "pose_model.overlay_show_labels=False"
   ]
  },
  {
   "cell_type": "code",
   "execution_count": null,
   "id": "53fb81ab",
   "metadata": {},
   "outputs": [],
   "source": [
    "people=people_det_model('./images/poses_three_persons.jpg')\n",
    "for person in people.results:\n",
    "    person_box=people.image.crop(person['bbox'])\n",
    "    poses=pose_model(person_box)\n",
    "    display(poses.image_overlay)"
   ]
  },
  {
   "cell_type": "code",
   "execution_count": null,
   "id": "4e922940",
   "metadata": {},
   "outputs": [],
   "source": [
    "all_poses=pose_model('./images/poses_three_persons.jpg')\n",
    "display(all_poses.image_overlay)"
   ]
  }
 ],
 "metadata": {
  "kernelspec": {
   "display_name": "Python 3 (ipykernel)",
   "language": "python",
   "name": "python3"
  },
  "language_info": {
   "codemirror_mode": {
    "name": "ipython",
    "version": 3
   },
   "file_extension": ".py",
   "mimetype": "text/x-python",
   "name": "python",
   "nbconvert_exporter": "python",
   "pygments_lexer": "ipython3",
   "version": "3.8.12"
  }
 },
 "nbformat": 4,
 "nbformat_minor": 5
}
