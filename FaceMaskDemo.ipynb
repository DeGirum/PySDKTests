{
 "cells": [
  {
   "cell_type": "code",
   "execution_count": 11,
   "id": "e148e6da",
   "metadata": {},
   "outputs": [],
   "source": [
    "import degirum as dg\n",
    "import cv2 as cv\n",
    "import numpy as np"
   ]
  },
  {
   "cell_type": "code",
   "execution_count": 12,
   "id": "14057b72",
   "metadata": {},
   "outputs": [],
   "source": [
    "model_zoo=dg.connect_model_zoo('localhost')"
   ]
  },
  {
   "cell_type": "code",
   "execution_count": 19,
   "id": "0d17110b",
   "metadata": {},
   "outputs": [],
   "source": [
    "face_model=model_zoo.load_model('yolo_v5s_face_det--512x512_quant_n2x_orca_1')\n",
    "mask_model=model_zoo.load_model('mobilenet_v2_mask_yn_cls--224x224_float_n2x_orca_1')\n",
    "face_model.image_backend='pil'\n",
    "face_model.input_resize_method='bilinear'\n",
    "face_model.input_numpy_colorspace='BGR'\n",
    "mask_model.image_backend='pil'\n",
    "mask_model.input_resize_method='bilinear'\n",
    "mask_model.input_numpy_colorspace='BGR'\n",
    "mask_model.overlay_font_scale=4\n",
    "face_model.output_confidence_threshold=0.7"
   ]
  },
  {
   "cell_type": "code",
   "execution_count": 20,
   "id": "5a430353",
   "metadata": {},
   "outputs": [],
   "source": [
    "cap=cv.VideoCapture(0)\n",
    "\n",
    "if not cap.isOpened():\n",
    "    print(\"cannot open camera\")\n",
    "    exit()\n",
    "f1=[]\n",
    "\n",
    "def source(data):\n",
    "    while True:\n",
    "        if data:\n",
    "            yield data.pop(0)\n",
    "        else:\n",
    "            ret, frame = cap.read()\n",
    "            f1.append(frame)"
   ]
  },
  {
   "cell_type": "code",
   "execution_count": 21,
   "id": "7d3fc15c",
   "metadata": {},
   "outputs": [],
   "source": [
    "for faces in person_model.predict_batch(source(f1)):\n",
    "    #Use this to show face detection results\n",
    "    cv.imshow('faces',np.asarray(faces.image_overlay)[:,:,::-1])\n",
    "    for index,face in enumerate(faces.results):\n",
    "        face_region=faces.image.crop(face['bbox'])\n",
    "        mask_results=mask_model(face_region)\n",
    "        #for every face it will show one more stream\n",
    "        #probably need better ways to show the results\n",
    "        cv.imshow('faces'+str(index),np.asarray(mask_results.image_overlay)[:,:,::-1])\n",
    "    if cv.waitKey(1)==ord('q'):\n",
    "        break\n",
    "cap.release()\n",
    "cv.destroyAllWindows()"
   ]
  }
 ],
 "metadata": {
  "kernelspec": {
   "display_name": "Python 3 (ipykernel)",
   "language": "python",
   "name": "python3"
  },
  "language_info": {
   "codemirror_mode": {
    "name": "ipython",
    "version": 3
   },
   "file_extension": ".py",
   "mimetype": "text/x-python",
   "name": "python",
   "nbconvert_exporter": "python",
   "pygments_lexer": "ipython3",
   "version": "3.8.10"
  }
 },
 "nbformat": 4,
 "nbformat_minor": 5
}
