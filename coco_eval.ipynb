{
 "cells": [
  {
   "cell_type": "code",
   "execution_count": null,
   "id": "971de712-4786-4fb8-8000-3c118901e003",
   "metadata": {},
   "outputs": [],
   "source": [
    "import degirum as dg\n",
    "import requests\n",
    "import json\n",
    "from dg_coco_utils import *\n",
    "from pycocotools.coco import COCO\n",
    "from pycocotools.cocoeval import COCOeval"
   ]
  },
  {
   "cell_type": "code",
   "execution_count": null,
   "id": "c4423f3e-ef2d-47dc-8634-3ead6172519f",
   "metadata": {},
   "outputs": [],
   "source": [
    "config=open('./coco_configs/Efficientdet_lite1_coco_config.json')\n",
    "config_options=json.load(config)\n",
    "config.close()\n",
    "\n",
    "ai_server_address=''\n",
    "models=dg.connect_model_zoo(ai_server_address)\n",
    "ground_truth_annotations_path=\" \"\n",
    "image_folder_path=\" \"\n",
    "pred_json='yolov5m_orca_predictions.json'\n",
    "print_frequency=50"
   ]
  },
  {
   "cell_type": "code",
   "execution_count": null,
   "id": "2f97f389-06b1-48a1-a29b-3e68cf254409",
   "metadata": {},
   "outputs": [],
   "source": [
    "model_name=config_options['MODEL_PARAMETERS'][0]['ModelName']\n",
    "eval_model=models.load_model(model_name)\n",
    "eval_model.output_confidence_threshold=config_options['POST_PROCESS'][0]['OutputConfThreshold']\n",
    "eval_model.output_nms_threshold=config_options['POST_PROCESS'][0]['OutputNMSThreshold']\n",
    "eval_model.output_max_detections=config_options['POST_PROCESS'][0]['MaxDetections']\n",
    "eval_model.output_max_detections_per_class=config_options['POST_PROCESS'][0]['MaxDetectionsPerClass']\n",
    "eval_model.output_max_classes_per_detection=config_options['POST_PROCESS'][0]['MaxClassesPerDetection']\n",
    "eval_model.output_use_regular_nms=config_options['POST_PROCESS'][0]['UseRegularNMS']\n",
    "eval_model.input_resize_method=config_options['PRE_PROCESS'][0]['InputResizeMethod']\n",
    "eval_model.input_pad_method=config_options['PRE_PROCESS'][0]['InputPadMethod']\n",
    "eval_model.image_backend=config_options['PRE_PROCESS'][0]['ImageBackend']\n",
    "class_map=config_options['POST_PROCESS'][0]['ClassMap']\n"
   ]
  },
  {
   "cell_type": "code",
   "execution_count": null,
   "id": "a33d55b7-3e5b-4ea5-b9ac-2c6166566fac",
   "metadata": {},
   "outputs": [],
   "source": [
    "jdict=[]\n",
    "anno = COCO(ground_truth_json)\n",
    "num_images=len(anno.dataset['images'])\n",
    "files_dict=anno.dataset['images'][0:num_images]\n",
    "\n",
    "for image_number in range(0,num_images):\n",
    "    if image_number%print_frequency==print_frequency-1:\n",
    "        print(image_number+1)\n",
    "    image_id=files_dict[image_number]['id']\n",
    "    path=image_folder_path + files_dict[image_number]['file_name']\n",
    "    predictions=eval_model(path)\n",
    "    save_results_coco_json(predictions.results,jdict,image_id,class_map)\n",
    "with open(pred_json, 'w') as f:\n",
    "    json.dump(jdict, f)\n",
    "\n",
    "pred = anno.loadRes(pred_json)\n",
    "eval_obj = COCOeval(anno, pred, 'bbox')\n",
    "eval_obj.params.imgIds = [file['id'] for file in files_dict]  # image IDs to evaluate\n",
    "eval_obj.evaluate()\n",
    "eval_obj.accumulate()\n",
    "eval_obj.summarize()\n",
    "map_all, map50 = eval_obj.stats[:2]  # update results (mAP@0.5:0.95, mAP@0.5)"
   ]
  }
 ],
 "metadata": {
  "kernelspec": {
   "display_name": "Python (dg_pysdk)",
   "language": "python",
   "name": "dg_pysdk"
  },
  "language_info": {
   "codemirror_mode": {
    "name": "ipython",
    "version": 3
   },
   "file_extension": ".py",
   "mimetype": "text/x-python",
   "name": "python",
   "nbconvert_exporter": "python",
   "pygments_lexer": "ipython3",
   "version": "3.8.12"
  }
 },
 "nbformat": 4,
 "nbformat_minor": 5
}
