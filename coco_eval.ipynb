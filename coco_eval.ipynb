{
 "cells": [
  {
   "cell_type": "code",
   "execution_count": null,
   "id": "971de712-4786-4fb8-8000-3c118901e003",
   "metadata": {},
   "outputs": [],
   "source": [
    "import degirum as dg\n",
    "import requests\n",
    "import json\n",
    "import os\n",
    "import tempfile\n",
    "from contextlib import contextmanager\n",
    "from dg_coco_utils import *\n",
    "from pycocotools.coco import COCO\n",
    "from pycocotools.cocoeval import COCOeval"
   ]
  },
  {
   "cell_type": "code",
   "execution_count": null,
   "id": "2727bd3c",
   "metadata": {},
   "outputs": [],
   "source": [
    "@contextmanager\n",
    "def annotations_accessor(url:str):\n",
    "    \"\"\"Annotation accessor context manager: downloads annotations into local temporary file and returns its name\n",
    "    \n",
    "    - `url`: annotations url \n",
    "    \"\"\"\n",
    "    r = requests.get(url)\n",
    "    r.raise_for_status()\n",
    "    fd, fname = tempfile.mkstemp()\n",
    "    try:\n",
    "        with os.fdopen(fd, 'w') as f:\n",
    "            json.dump(r.json(), f)\n",
    "        yield fname\n",
    "    finally:\n",
    "        os.unlink(fname)"
   ]
  },
  {
   "cell_type": "code",
   "execution_count": null,
   "id": "c4423f3e-ef2d-47dc-8634-3ead6172519f",
   "metadata": {},
   "outputs": [],
   "source": [
    "with open('./coco_configs/yolo_v5s_pet_det--512x512_quant_n2x_orca_1.json') as config:\n",
    "    config_options=json.load(config)\n",
    "ai_server_address='localhost'\n",
    "models=dg.connect_model_zoo(ai_server_address)\n",
    "ground_truth_annotations_path=\"http://192.168.0.16:8084/pet_det/val/labels.json\"\n",
    "image_folder_path=\"http://192.168.0.16:8084/pet_det/val/data/\"\n",
    "pred_json='yolov5m_orca_predictions.json'\n",
    "print_frequency=50"
   ]
  },
  {
   "cell_type": "code",
   "execution_count": null,
   "id": "2f97f389-06b1-48a1-a29b-3e68cf254409",
   "metadata": {},
   "outputs": [],
   "source": [
    "model_name=config_options['MODEL_PARAMETERS'][0]['ModelName']\n",
    "eval_model=models.load_model(model_name)\n",
    "eval_model.output_confidence_threshold=config_options['POST_PROCESS'][0]['OutputConfThreshold']\n",
    "eval_model.output_nms_threshold=config_options['POST_PROCESS'][0]['OutputNMSThreshold']\n",
    "eval_model.output_max_detections=config_options['POST_PROCESS'][0]['MaxDetections']\n",
    "eval_model.output_max_detections_per_class=config_options['POST_PROCESS'][0]['MaxDetectionsPerClass']\n",
    "eval_model.output_max_classes_per_detection=config_options['POST_PROCESS'][0]['MaxClassesPerDetection']\n",
    "eval_model.output_use_regular_nms=config_options['POST_PROCESS'][0]['UseRegularNMS']\n",
    "eval_model.input_resize_method=config_options['PRE_PROCESS'][0]['InputResizeMethod']\n",
    "eval_model.input_pad_method=config_options['PRE_PROCESS'][0]['InputPadMethod']\n",
    "eval_model.image_backend=config_options['PRE_PROCESS'][0]['ImageBackend']\n",
    "class_map=config_options['POST_PROCESS'][0]['ClassMap']\n"
   ]
  },
  {
   "cell_type": "code",
   "execution_count": null,
   "id": "a33d55b7-3e5b-4ea5-b9ac-2c6166566fac",
   "metadata": {},
   "outputs": [],
   "source": [
    "jdict=[]\n",
    "with annotations_accessor(ground_truth_annotations_path) as annotations_file:\n",
    "    anno = COCO(annotations_file)\n",
    "num_images=len(anno.dataset['images'])\n",
    "files_dict=anno.dataset['images'][0:num_images]\n",
    "\n",
    "for image_number in range(0,num_images):\n",
    "    if image_number%print_frequency==print_frequency-1:\n",
    "        print(image_number+1)\n",
    "    image_id=files_dict[image_number]['id']\n",
    "    path=image_folder_path + files_dict[image_number]['file_name']\n",
    "    print(path)\n",
    "    predictions=eval_model(path)\n",
    "    save_results_coco_json(predictions.results,jdict,image_id,class_map)\n",
    "with open(pred_json, 'w') as f:\n",
    "    json.dump(jdict, f)\n",
    "\n",
    "pred = anno.loadRes(pred_json)\n",
    "eval_obj = COCOeval(anno, pred, 'bbox')\n",
    "eval_obj.params.imgIds = [file['id'] for file in files_dict]  # image IDs to evaluate\n",
    "eval_obj.evaluate()\n",
    "eval_obj.accumulate()\n",
    "eval_obj.summarize()\n",
    "map_all, map50 = eval_obj.stats[:2]  # update results (mAP@0.5:0.95, mAP@0.5)"
   ]
  },
  {
   "cell_type": "code",
   "execution_count": null,
   "id": "0945053e",
   "metadata": {},
   "outputs": [],
   "source": [
    "eval_obj.stats"
   ]
  },
  {
   "cell_type": "code",
   "execution_count": null,
   "id": "05ab2e84",
   "metadata": {},
   "outputs": [],
   "source": [
    "config_options['Results']"
   ]
  },
  {
   "cell_type": "code",
   "execution_count": null,
   "id": "348c15fe",
   "metadata": {},
   "outputs": [],
   "source": []
  }
 ],
 "metadata": {
  "kernelspec": {
   "display_name": "Python 3 (ipykernel)",
   "language": "python",
   "name": "python3"
  },
  "language_info": {
   "codemirror_mode": {
    "name": "ipython",
    "version": 3
   },
   "file_extension": ".py",
   "mimetype": "text/x-python",
   "name": "python",
   "nbconvert_exporter": "python",
   "pygments_lexer": "ipython3",
   "version": "3.8.13"
  },
  "vscode": {
   "interpreter": {
    "hash": "f77ba0ef977241afac66801d7297b5fb2ffa6cc21668a24d017a9f23b5f689e7"
   }
  }
 },
 "nbformat": 4,
 "nbformat_minor": 5
}
