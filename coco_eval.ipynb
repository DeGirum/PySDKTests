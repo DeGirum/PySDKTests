{
 "cells": [
  {
   "cell_type": "code",
   "execution_count": 1,
   "id": "971de712-4786-4fb8-8000-3c118901e003",
   "metadata": {},
   "outputs": [],
   "source": [
    "import degirum as dg\n",
    "import requests\n",
    "import json\n",
    "import os\n",
    "import tempfile\n",
    "from contextlib import contextmanager\n",
    "from dg_coco_utils import *\n",
    "from pycocotools.coco import COCO\n",
    "from pycocotools.cocoeval import COCOeval\n",
    "from tqdm import tqdm\n",
    "import numpy as np"
   ]
  },
  {
   "cell_type": "code",
   "execution_count": 2,
   "id": "2727bd3c",
   "metadata": {},
   "outputs": [],
   "source": [
    "@contextmanager\n",
    "def annotations_accessor(url:str):\n",
    "    \"\"\"Annotation accessor context manager: downloads annotations into local temporary file and returns its name\n",
    "    \n",
    "    - `url`: annotations url \n",
    "    \"\"\"\n",
    "    r = requests.get(url)\n",
    "    r.raise_for_status()\n",
    "    fd, fname = tempfile.mkstemp()\n",
    "    try:\n",
    "        with os.fdopen(fd, 'w') as f:\n",
    "            json.dump(r.json(), f)\n",
    "        yield fname\n",
    "    finally:\n",
    "        os.unlink(fname)"
   ]
  },
  {
   "cell_type": "code",
   "execution_count": 3,
   "id": "c4423f3e-ef2d-47dc-8634-3ead6172519f",
   "metadata": {},
   "outputs": [],
   "source": [
    "json_path = '/home/degirum/yolov8_test/yolov8n_relu6_quant.json'\n",
    "with open(json_path) as config:\n",
    "    config_options=json.load(config)\n",
    "# ai_server_address='localhost'\n",
    "models=dg.connect(dg.LOCAL, json_path)\n",
    "ground_truth_annotations_path=\"http://100.102.102.108:8084/coco/val/labels.json\"\n",
    "image_folder_path=\"http://100.102.102.108:8084/coco/val/data/\"\n",
    "pred_json='yolov5s_edgetpu_predictions.json'\n",
    "# print_frequency=50"
   ]
  },
  {
   "cell_type": "code",
   "execution_count": 4,
   "id": "2f97f389-06b1-48a1-a29b-3e68cf254409",
   "metadata": {},
   "outputs": [],
   "source": [
    "model_name=config_options['MODEL_PARAMETERS'][0]['ModelPath']\n",
    "eval_model=models.load_model(model_name)\n",
    "# eval_model.output_confidence_threshold=config_options['POST_PROCESS'][0]['OutputConfThreshold']\n",
    "# eval_model.output_nms_threshold=config_options['POST_PROCESS'][0]['OutputNMSThreshold']\n",
    "# eval_model.output_max_detections=config_options['POST_PROCESS'][0]['MaxDetections']\n",
    "# eval_model.output_max_detections_per_class=config_options['POST_PROCESS'][0]['MaxDetectionsPerClass']\n",
    "# eval_model.output_max_classes_per_detection=config_options['POST_PROCESS'][0]['MaxClassesPerDetection']\n",
    "# eval_model.output_use_regular_nms=config_options['POST_PROCESS'][0]['UseRegularNMS']\n",
    "# eval_model.input_resize_method=config_options['PRE_PROCESS'][0]['InputResizeMethod']\n",
    "# eval_model.input_pad_method=config_options['PRE_PROCESS'][0]['InputPadMethod']\n",
    "# eval_model.image_backend=config_options['PRE_PROCESS'][0]['ImageBackend']\n",
    "class_map=config_options['POST_PROCESS'][0]['ClassMap']  "
   ]
  },
  {
   "cell_type": "code",
   "execution_count": 5,
   "id": "a33d55b7-3e5b-4ea5-b9ac-2c6166566fac",
   "metadata": {},
   "outputs": [
    {
     "name": "stdout",
     "output_type": "stream",
     "text": [
      "loading annotations into memory...\n",
      "Done (t=0.35s)\n",
      "creating index...\n",
      "index created!\n"
     ]
    },
    {
     "name": "stderr",
     "output_type": "stream",
     "text": [
      "100%|████████████████████████████████████████████████████████████████| 5000/5000 [04:09<00:00, 20.02it/s]\n"
     ]
    },
    {
     "name": "stdout",
     "output_type": "stream",
     "text": [
      "Loading and preparing results...\n",
      "DONE (t=3.37s)\n",
      "creating index...\n",
      "index created!\n",
      "Running per image evaluation...\n",
      "Evaluate annotation type *bbox*\n",
      "DONE (t=27.26s).\n",
      "Accumulating evaluation results...\n",
      "DONE (t=10.45s).\n",
      " Average Precision  (AP) @[ IoU=0.50:0.95 | area=   all | maxDets=100 ] = 0.331\n",
      " Average Precision  (AP) @[ IoU=0.50      | area=   all | maxDets=100 ] = 0.483\n",
      " Average Precision  (AP) @[ IoU=0.75      | area=   all | maxDets=100 ] = 0.355\n",
      " Average Precision  (AP) @[ IoU=0.50:0.95 | area= small | maxDets=100 ] = 0.150\n",
      " Average Precision  (AP) @[ IoU=0.50:0.95 | area=medium | maxDets=100 ] = 0.367\n",
      " Average Precision  (AP) @[ IoU=0.50:0.95 | area= large | maxDets=100 ] = 0.466\n",
      " Average Recall     (AR) @[ IoU=0.50:0.95 | area=   all | maxDets=  1 ] = 0.297\n",
      " Average Recall     (AR) @[ IoU=0.50:0.95 | area=   all | maxDets= 10 ] = 0.502\n",
      " Average Recall     (AR) @[ IoU=0.50:0.95 | area=   all | maxDets=100 ] = 0.529\n",
      " Average Recall     (AR) @[ IoU=0.50:0.95 | area= small | maxDets=100 ] = 0.310\n",
      " Average Recall     (AR) @[ IoU=0.50:0.95 | area=medium | maxDets=100 ] = 0.592\n",
      " Average Recall     (AR) @[ IoU=0.50:0.95 | area= large | maxDets=100 ] = 0.717\n"
     ]
    }
   ],
   "source": [
    "jdict=[]\n",
    "with annotations_accessor(ground_truth_annotations_path) as annotations_file:\n",
    "    anno = COCO(annotations_file)\n",
    "num_images=len(anno.dataset['images'])\n",
    "files_dict=anno.dataset['images'][0:num_images]\n",
    "\n",
    "for image_number in tqdm(range(0,num_images)):\n",
    "#     if image_number%print_frequency==print_frequency-1:\n",
    "#         print(image_number+1)\n",
    "    image_id=files_dict[image_number]['id']\n",
    "    path=image_folder_path + files_dict[image_number]['file_name']\n",
    "#     print(path)\n",
    "    predictions=eval_model(path)\n",
    "    save_results_coco_json(predictions.results,jdict,image_id,class_map)\n",
    "with open(pred_json, 'w') as f:\n",
    "    json.dump(jdict, f)\n",
    "\n",
    "pred = anno.loadRes(pred_json)\n",
    "eval_obj = COCOeval(anno, pred, 'bbox')\n",
    "eval_obj.params.imgIds = sorted([file['id'] for file in files_dict])  # image IDs to evaluate\n",
    "eval_obj.evaluate()\n",
    "eval_obj.accumulate()\n",
    "eval_obj.summarize()\n",
    "map_all, map50 = eval_obj.stats[:2]  # update results (mAP@0.5:0.95, mAP@0.5)"
   ]
  },
  {
   "cell_type": "code",
   "execution_count": 6,
   "id": "0945053e",
   "metadata": {},
   "outputs": [
    {
     "data": {
      "text/plain": [
       "array([0.33059591, 0.48300294, 0.35478269, 0.14950367, 0.36672598,\n",
       "       0.46578683, 0.29656854, 0.50201345, 0.52927319, 0.3096648 ,\n",
       "       0.59198686, 0.71686478])"
      ]
     },
     "execution_count": 6,
     "metadata": {},
     "output_type": "execute_result"
    }
   ],
   "source": [
    "eval_obj.stats"
   ]
  },
  {
   "cell_type": "code",
   "execution_count": 7,
   "id": "05ab2e84",
   "metadata": {},
   "outputs": [],
   "source": [
    "# config_options['Results']"
   ]
  },
  {
   "cell_type": "code",
   "execution_count": null,
   "id": "348c15fe",
   "metadata": {},
   "outputs": [],
   "source": []
  },
  {
   "cell_type": "code",
   "execution_count": null,
   "id": "be476c6f",
   "metadata": {},
   "outputs": [],
   "source": []
  }
 ],
 "metadata": {
  "kernelspec": {
   "display_name": "yolo-venv",
   "language": "python",
   "name": "yolo-venv"
  },
  "language_info": {
   "codemirror_mode": {
    "name": "ipython",
    "version": 3
   },
   "file_extension": ".py",
   "mimetype": "text/x-python",
   "name": "python",
   "nbconvert_exporter": "python",
   "pygments_lexer": "ipython3",
   "version": "3.10.12"
  },
  "vscode": {
   "interpreter": {
    "hash": "f77ba0ef977241afac66801d7297b5fb2ffa6cc21668a24d017a9f23b5f689e7"
   }
  }
 },
 "nbformat": 4,
 "nbformat_minor": 5
}
