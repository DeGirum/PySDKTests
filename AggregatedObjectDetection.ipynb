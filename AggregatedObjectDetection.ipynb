{
 "cells": [
  {
   "cell_type": "markdown",
   "id": "438aa03a",
   "metadata": {},
   "source": [
    "This notebook is an example how to run two models side-by-side and combine results of both models. A video stream from a local camera is processed by the hand and face detection models. Combined result is then displayed.\n",
    "OpenCV is required to run this sample."
   ]
  },
  {
   "cell_type": "code",
   "execution_count": 1,
   "id": "65d4cd90",
   "metadata": {},
   "outputs": [],
   "source": [
    "import degirum as dg # import DeGirum PySDK\n",
    "import cv2 # OpenCV"
   ]
  },
  {
   "cell_type": "code",
   "execution_count": 2,
   "id": "e8b67dd8",
   "metadata": {},
   "outputs": [],
   "source": [
    "# connect to default model zoo\n",
    "zoo = dg.connect_model_zoo()"
   ]
  },
  {
   "cell_type": "code",
   "execution_count": 54,
   "id": "e4f8e543",
   "metadata": {},
   "outputs": [],
   "source": [
    "# Some helper functions\n",
    "\n",
    "def show(img, capt = \"<image>\"):\n",
    "    # show opencv image\n",
    "    cv2.imshow(capt, img)\n",
    "    key = cv2.waitKey(1) & 0xFF\n",
    "    if key == ord('x') or key == ord('q'):\n",
    "        raise KeyboardInterrupt\n",
    "    "
   ]
  },
  {
   "cell_type": "code",
   "execution_count": 55,
   "id": "33012fe3",
   "metadata": {},
   "outputs": [],
   "source": [
    "# load models for DeGirum Orca AI accelerator\n",
    "# (change model name to \"...n2x_cpu_1\" to run it on CPU)\n",
    "hand_det_model = zoo.load_model(\"yolo_v5s_hand_det--512x512_quant_n2x_orca_1\")\n",
    "face_det_model = zoo.load_model(\"yolo_v5s_face_det--512x512_quant_n2x_orca_1\")\n",
    "\n",
    "# select OpenCV backend: needed to have overlay image in OpenCV format\n",
    "hand_det_model.image_backend = 'opencv'\n",
    "face_det_model.image_backend = 'opencv' "
   ]
  },
  {
   "cell_type": "code",
   "execution_count": 56,
   "id": "7465a3f8",
   "metadata": {},
   "outputs": [],
   "source": [
    "# open video stream from local camera #0\n",
    "stream = cv2.VideoCapture(0)\n",
    "\n",
    "# define iterator function, which returns frames from camera \n",
    "def source(idx):\n",
    "    # idx is the index of a buffer\n",
    "    N = 2 # number of buffers\n",
    "    bufs = [[]] * N\n",
    "    assert idx < N\n",
    "    while True:\n",
    "        if len(bufs[idx]) == 0: # this buffer is empty: get frame from camera and add to all buffers\n",
    "            ret, frame = stream.read()\n",
    "            for s in bufs:\n",
    "                s.insert(0, frame)\n",
    "        yield bufs[idx].pop()"
   ]
  },
  {
   "cell_type": "code",
   "execution_count": 59,
   "id": "d93242ba",
   "metadata": {},
   "outputs": [],
   "source": [
    "try:\n",
    "    # run person detection model on a camera stream\n",
    "    for hands, faces in zip(hand_det_model.predict_batch(source(0)), face_det_model.predict_batch(source(1))):\n",
    "\n",
    "        hands._inference_results += faces._inference_results\n",
    "        show(hands.image_overlay, \"Hands and Faces\")\n",
    "\n",
    "except KeyboardInterrupt:\n",
    "    pass # ignore KeyboardInterrupt errors\n",
    "finally:\n",
    "    cv2.destroyAllWindows() # close OpenCV windows\n"
   ]
  },
  {
   "cell_type": "code",
   "execution_count": 52,
   "id": "f06b63b8",
   "metadata": {},
   "outputs": [],
   "source": [
    "stream.release() # release camera stream"
   ]
  },
  {
   "cell_type": "code",
   "execution_count": null,
   "id": "766d73ad",
   "metadata": {},
   "outputs": [],
   "source": []
  }
 ],
 "metadata": {
  "kernelspec": {
   "display_name": "Python 3 (ipykernel)",
   "language": "python",
   "name": "python3"
  },
  "language_info": {
   "codemirror_mode": {
    "name": "ipython",
    "version": 3
   },
   "file_extension": ".py",
   "mimetype": "text/x-python",
   "name": "python",
   "nbconvert_exporter": "python",
   "pygments_lexer": "ipython3",
   "version": "3.8.12"
  }
 },
 "nbformat": 4,
 "nbformat_minor": 5
}
