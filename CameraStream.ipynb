{
 "cells": [
  {
   "cell_type": "markdown",
   "id": "5c15cb24",
   "metadata": {},
   "source": [
    "This notebook is a simple example how to use DeGirum PySDK to do AI inference of a video stream from local camera.\n",
    "OpenCV is required to run this sample."
   ]
  },
  {
   "cell_type": "code",
   "execution_count": 1,
   "id": "e512335c",
   "metadata": {},
   "outputs": [],
   "source": [
    "import degirum as dg # import DeGirum PySDK\n",
    "import cv2 # OpenCV"
   ]
  },
  {
   "cell_type": "code",
   "execution_count": 2,
   "id": "e95f3bc8",
   "metadata": {},
   "outputs": [],
   "source": [
    "# connect to default model zoo\n",
    "zoo = dg.connect_model_zoo()\n",
    "# load AI model 'ssd_mobilenet_v2' for DeGirum Orca AI accelerator\n",
    "# (change model name to \"...n2x_cpu_1\" to run it on CPU)\n",
    "model = zoo.load_model(\"mobilenet_v2_ssd_coco--300x300_quant_n2x_orca_1\")\n",
    "\n",
    "# set model parameters\n",
    "model.image_backend = 'opencv' # select OpenCV backend: needed to have overlay image in OpenCV format\n",
    "model.overlay_show_probabilities = True # show probabilities on overlay image"
   ]
  },
  {
   "cell_type": "code",
   "execution_count": 3,
   "id": "7d4d72d2",
   "metadata": {},
   "outputs": [],
   "source": [
    "# open video stream from local camera #0\n",
    "stream = cv2.VideoCapture(0)\n",
    "\n",
    "# define iterator function, which returns frames from camera \n",
    "def source():\n",
    "    while True:\n",
    "        ret, frame = stream.read()\n",
    "        yield frame\n",
    "\n",
    "# AI prediction loop\n",
    "# Press 'x' to stop\n",
    "for res in model.predict_batch(source()):\n",
    "    cv2.imshow(\"AI camera\", res.image_overlay)\n",
    "    if (cv2.waitKey(1) & 0xFF) == ord('x'):\n",
    "        break\n",
    "        \n",
    "stream.release() # release camera stream\n",
    "cv2.destroyAllWindows() # close OpenCV windows"
   ]
  }
 ],
 "metadata": {
  "kernelspec": {
   "display_name": "Python 3 (ipykernel)",
   "language": "python",
   "name": "python3"
  },
  "language_info": {
   "codemirror_mode": {
    "name": "ipython",
    "version": 3
   },
   "file_extension": ".py",
   "mimetype": "text/x-python",
   "name": "python",
   "nbconvert_exporter": "python",
   "pygments_lexer": "ipython3",
   "version": "3.8.12"
  }
 },
 "nbformat": 4,
 "nbformat_minor": 5
}
