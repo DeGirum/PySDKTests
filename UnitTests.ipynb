{
 "cells": [
  {
   "cell_type": "markdown",
   "id": "e08e7226",
   "metadata": {},
   "source": [
    "This notebook is one of the most simplest examples how to use DeGirum PySDK to do AI inference of a graphical file using  object detection model"
   ]
  },
  {
   "cell_type": "code",
   "execution_count": null,
   "id": "8e7bde8c",
   "metadata": {},
   "outputs": [],
   "source": [
    "# import DeGirum PySDK\n",
    "import degirum as dg\n",
    "import json\n",
    "import glob"
   ]
  },
  {
   "cell_type": "code",
   "execution_count": null,
   "id": "6b4388e3",
   "metadata": {},
   "outputs": [],
   "source": [
    "# connect to ai server model zoo\n",
    "ai_server_address=' ' #fill in the IP address of AI server. Use localhost if running locally\n",
    "zoo = dg.connect_model_zoo(ai_server_address)"
   ]
  },
  {
   "cell_type": "code",
   "execution_count": null,
   "id": "40911319-a991-449a-93cc-5d5c24a6995f",
   "metadata": {},
   "outputs": [],
   "source": [
    "for index, filepath in enumerate(glob.iglob('UnitTestConfigs/*.json')):\n",
    "    print(filepath)\n",
    "    config=open(filepath)\n",
    "    config_options=json.load(config)\n",
    "    config.close()\n",
    "    # load AI model \n",
    "    model_name=config_options['MODEL_PARAMETERS'][0]['ModelName']\n",
    "    model = zoo.load_model(model_name)\n",
    "    input_image_path=config_options['TEST_IMAGE'][0]['InputPath']\n",
    "    expected_results=config_options['RESULTS']\n",
    "    # perform AI model inference on given image file (assuming current direcory is where this notebook is located)\n",
    "    res = model(input_image_path)\n",
    "    print('Model number', index)\n",
    "    if(expected_results==res.results):\n",
    "        print('Success')\n",
    "    else:\n",
    "        print('###################Failure################')"
   ]
  },
  {
   "cell_type": "code",
   "execution_count": null,
   "id": "b4a69807-0ddc-4650-aeb2-af1844039c87",
   "metadata": {},
   "outputs": [],
   "source": []
  }
 ],
 "metadata": {
  "kernelspec": {
   "display_name": "Python 3 (ipykernel)",
   "language": "python",
   "name": "python3"
  },
  "language_info": {
   "codemirror_mode": {
    "name": "ipython",
    "version": 3
   },
   "file_extension": ".py",
   "mimetype": "text/x-python",
   "name": "python",
   "nbconvert_exporter": "python",
   "pygments_lexer": "ipython3",
   "version": "3.8.12"
  }
 },
 "nbformat": 4,
 "nbformat_minor": 5
}
