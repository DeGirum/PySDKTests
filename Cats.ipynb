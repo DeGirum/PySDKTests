{
 "cells": [
  {
   "cell_type": "markdown",
   "id": "e08e7226",
   "metadata": {},
   "source": [
    "This notebook is one of the most simplest examples how to use DeGirum PySDK to do AI inference of a graphical file using  object detection model"
   ]
  },
  {
   "cell_type": "code",
   "execution_count": null,
   "id": "8e7bde8c",
   "metadata": {},
   "outputs": [],
   "source": [
    "# import DeGirum PySDK\n",
    "import degirum as dg"
   ]
  },
  {
   "cell_type": "code",
   "execution_count": null,
   "id": "6b4388e3",
   "metadata": {},
   "outputs": [],
   "source": [
    "# connect to default model zoo\n",
    "zoo = dg.connect_model_zoo()"
   ]
  },
  {
   "cell_type": "code",
   "execution_count": null,
   "id": "ad4f4a5e",
   "metadata": {
    "scrolled": true
   },
   "outputs": [],
   "source": [
    "# list all AI models available for inference\n",
    "zoo.list_models()"
   ]
  },
  {
   "cell_type": "code",
   "execution_count": null,
   "id": "dc2baec4",
   "metadata": {},
   "outputs": [],
   "source": [
    "# load AI model 'ssd_mobilenet_v2' for DeGirum Orca AI accelerator\n",
    "model = zoo.load_model(\"mobilenet_v2_ssd_coco--300x300_quant_n2x_orca_1\")"
   ]
  },
  {
   "cell_type": "code",
   "execution_count": null,
   "id": "27299231",
   "metadata": {},
   "outputs": [],
   "source": [
    "# configure some result visualization parameters (optional step)\n",
    "model.image_backend = \"pil\" # use PIL as image rendering backend\n",
    "model.overlay_show_probabilities = True # show class probabilities on overlay image\n",
    "model.overlay_font_scale = 1.5 # increase font size for overlay image labels\n",
    "model.overlay_alpha = 1 # set minimum transparency for overlay image labels"
   ]
  },
  {
   "cell_type": "code",
   "execution_count": null,
   "id": "03954556",
   "metadata": {},
   "outputs": [],
   "source": [
    "# perform AI model inference on given image file (assuming current direcory is where this notebook is located)\n",
    "res = model(\"./images/TwoCats.jpg\")"
   ]
  },
  {
   "cell_type": "code",
   "execution_count": null,
   "id": "bb207347",
   "metadata": {},
   "outputs": [],
   "source": [
    "# show results of inference\n",
    "print(res) # numeric results\n",
    "res.image_overlay # graphical results"
   ]
  }
 ],
 "metadata": {
  "kernelspec": {
   "display_name": "Python 3 (ipykernel)",
   "language": "python",
   "name": "python3"
  },
  "language_info": {
   "codemirror_mode": {
    "name": "ipython",
    "version": 3
   },
   "file_extension": ".py",
   "mimetype": "text/x-python",
   "name": "python",
   "nbconvert_exporter": "python",
   "pygments_lexer": "ipython3",
   "version": "3.8.12"
  }
 },
 "nbformat": 4,
 "nbformat_minor": 5
}
